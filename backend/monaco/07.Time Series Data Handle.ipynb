{
 "cells": [
  {
   "cell_type": "code",
   "execution_count": null,
   "outputs": [],
   "source": [
    "\n",
    "# 7장 시계열 데이터를 다뤄보자\n",
    "\n",
    "### 작성 : [PinkWink](http://pinkwink.kr)\n",
    "\n",
    "## 7-1. Numpy의 polyfit으로 회귀(regression) 분석하기\n",
    "# pip install pandas_datareader\n",
    "# conda install -c conda-forge fbprophet"
   ],
   "metadata": {
    "collapsed": false,
    "pycharm": {
     "name": "#%%\n"
    }
   }
  },
  {
   "cell_type": "code",
   "execution_count": null,
   "outputs": [],
   "source": [
    "import warnings\n",
    "warnings.filterwarnings(\"ignore\")\n",
    "import pandas as pd\n",
    "import pandas_datareader.data as web\n",
    "import numpy as np\n",
    "import matplotlib.pyplot as plt\n",
    "%matplotlib inline\n",
    "\n",
    "from fbprophet import Prophet\n",
    "from datetime import datetime"
   ],
   "metadata": {
    "collapsed": false,
    "pycharm": {
     "name": "#%%\n"
    }
   }
  },
  {
   "cell_type": "code",
   "execution_count": null,
   "outputs": [],
   "source": [
    "# matpolib에 필요한 font 설정\n",
    "\n",
    "path = \"c:/Windows/Fonts/malgun.ttf\"\n",
    "import platform\n",
    "from matplotlib import font_manager, rc\n",
    "if platform.system() == 'Darwin':\n",
    "    rc('font', family='AppleGothic')\n",
    "elif platform.system() == 'Windows':\n",
    "    font_name = font_manager.FontProperties(fname=path).get_name()\n",
    "    rc('font', family=font_name)\n",
    "else:\n",
    "    print('Unknown system... sorry~~~~')\n",
    "\n",
    "plt.rcParams['axes.unicode_minus'] = False"
   ],
   "metadata": {
    "collapsed": false,
    "pycharm": {
     "name": "#%%\n"
    }
   }
  },
  {
   "cell_type": "code",
   "execution_count": null,
   "outputs": [],
   "source": [
    "## Numpy의 polyfit으로 회귀(Regression) 분석하기\n",
    "\n",
    "# csv 파일 정제\n",
    "\n",
    "pinkwink_web = pd.read_csv('../data/08. PinkWink Web Traffic.csv',\n",
    "                                          encoding='utf-8', thousands=',',\n",
    "                                          names = ['date','hit'], index_col=0)\n",
    "pinkwink_web = pinkwink_web[pinkwink_web['hit'].notnull()] #유입양이 없는 데이터 제외\n",
    "pinkwink_web.head()"
   ],
   "metadata": {
    "collapsed": false,
    "pycharm": {
     "name": "#%%\n"
    }
   }
  },
  {
   "cell_type": "code",
   "execution_count": null,
   "outputs": [],
   "source": [
    "# 유입량 그래프화\n",
    "pinkwink_web['hit'].plot(figsize=(12,4), grid=True);"
   ],
   "metadata": {
    "collapsed": false,
    "pycharm": {
     "name": "#%%\n"
    }
   }
  },
  {
   "cell_type": "code",
   "execution_count": null,
   "outputs": [],
   "source": [
    "# 선형 회귀 직선' 및 '다항 회귀식'을 표현\n",
    "\n",
    "time = np.arange(0,len(pinkwink_web))\n",
    "# len은 매개변수의 요소의 개수\n",
    "# pinkwink_web index 값으로 이루어진 array 생성\n",
    "\n",
    "traffic = pinkwink_web['hit'].values\n",
    "\n",
    "fx = np.linspace(0, time[-1], 1000)\n",
    "# linespace()함수는 두 수 사이를 50개의 균일한 간격의 수를 배열로 만들어준다.\n",
    "# 주로 y축에 사용된다."
   ],
   "metadata": {
    "collapsed": false,
    "pycharm": {
     "name": "#%%\n"
    }
   }
  },
  {
   "cell_type": "code",
   "execution_count": null,
   "outputs": [],
   "source": [
    "# RMSE(Root Mean Square Error, 표준편차)을 계산해주는 error() 함수를 생성\n",
    "\n",
    "def error(f, x, y):\n",
    "    return np.sqrt(np.mean((f(x)-y)**2))\n",
    "\n",
    "# f(x)는 예측값, y는 실제값\n",
    "# sqrt-> 제곱근 함수. 루트 역할\n",
    "# mean은 평균값 함수"
   ],
   "metadata": {
    "collapsed": false,
    "pycharm": {
     "name": "#%%\n"
    }
   }
  },
  {
   "cell_type": "code",
   "execution_count": null,
   "outputs": [],
   "source": [
    "#  1차원 다항식\n",
    "fp1 = np.polyfit(time, traffic, 1)\n",
    "f1 = np.poly1d(fp1)\n",
    "\n",
    "#  2차원 다항식\n",
    "f2p = np.polyfit(time, traffic, 2)\n",
    "f2 = np.poly1d(f2p)\n",
    "\n",
    "# 3차원 다항식\n",
    "f3p = np.polyfit(time, traffic, 3)\n",
    "f3 = np.poly1d(f3p)\n",
    "\n",
    "# 15차원 다항식\n",
    "f15p = np.polyfit(time, traffic, 15)\n",
    "f15 = np.poly1d(f15p)\n",
    "\n",
    "# error 함수를 통해 오차의 표준편차 즉, 잔차 제곱합을 구한다.\n",
    "# 데이터와 추정 모델 간의 불일치를 측정\n",
    "print(error(f1, time, traffic))\n",
    "print(error(f2, time, traffic))\n",
    "print(error(f3, time, traffic))\n",
    "print(error(f15, time, traffic))"
   ],
   "metadata": {
    "collapsed": false,
    "pycharm": {
     "name": "#%%\n"
    }
   }
  },
  {
   "cell_type": "code",
   "execution_count": null,
   "outputs": [],
   "source": [
    "# 각 차원의 다항식을 그래프로 출력\n",
    "\n",
    "plt.figure(figsize=(10,6))\n",
    "plt.scatter(time, traffic, s=10)\n",
    "\n",
    "plt.plot(fx, f1(fx), lw=4, label='f1')\n",
    "plt.plot(fx, f2(fx), lw=4, label='f2')\n",
    "plt.plot(fx, f3(fx), lw=4, label='f3')\n",
    "plt.plot(fx, f15(fx), lw=4, label='f15')\n",
    "\n",
    "plt.grid(True, linestyle='-', color='0.75')\n",
    "\n",
    "plt.legend(loc=2)\n",
    "plt.show()"
   ],
   "metadata": {
    "collapsed": false,
    "pycharm": {
     "name": "#%%\n"
    }
   }
  },
  {
   "cell_type": "markdown",
   "source": [
    "## 7-2. Prophet 모듈을 이용한 forecast 예측\n",
    "\n",
    "Prophet 모델의 주요 구성요소는 Trend, Seasonality, Holiday 입니다. 이 세가지를 결합하면 아래의 공식으로 나타낼 수 있습니다.\n",
    "y(t)=g(t)+s(t)+h(t)+ϵi\n",
    "\n",
    "- g(t): piecewise linear or logistic growth curve for modelling non-periodic changes in time series\n",
    "- s(t): periodic changes (e.g. weekly/yearly seasonality)\n",
    "- h(t): effects of holidays (user provided) with irregular schedules- ϵi: error term accounts for any unusual changes not accommodated by the model\n",
    "\n",
    "위에서 Trend 를 g(t)함수는 주기적이지 않은 변화인 트렌드를 나타냅니다. 부분적으로 선형 또는 logistic 곡선으로 이루어져 있습니다. 그리고 Seasonality 인 s(t)함수는 weekly, yearly 등 주기적으로 나타나는 패턴들을 포함합니다.\n",
    "\n",
    "Holiday를 나타내는 h(t)함수는 휴일과 같이 불규칙한 이벤트들을 나타냅니다. 만약 특정 기간에 값이 비정상적으로 증가 또는, 감소했다면, holiday로 정의하여 모델에 반영할 수 있습니다. 마지막으로 ϵi는 정규분포라고 가정한 오차입니다.\n"
   ],
   "metadata": {
    "collapsed": false
   }
  },
  {
   "cell_type": "code",
   "execution_count": null,
   "outputs": [],
   "source": [
    "df = pd.DataFrame({'ds':pinkwink_web.index, 'y':pinkwink_web['hit']})\n",
    "df.reset_index(inplace=True)\n",
    "df['ds'] =  pd.to_datetime(df['ds'], format=\"%y. %m. %d.\")\n",
    "del df['date']\n",
    "\n",
    "m = Prophet(yearly_seasonality=True, daily_seasonality=True)\n",
    "# 주기성이 연단위(yearly_seasonality) 및 일단위(daily_seasonality)로 있다고 알려준다\n",
    "m.fit(df);"
   ],
   "metadata": {
    "collapsed": false,
    "pycharm": {
     "name": "#%%\n"
    }
   }
  },
  {
   "cell_type": "code",
   "execution_count": null,
   "outputs": [],
   "source": [
    "# make_future_dataframe()로 지정된 날짜 수만큼 예측할 것\n",
    "future = m.make_future_dataframe(periods=60)\n",
    "future.tail()"
   ],
   "metadata": {
    "collapsed": false,
    "pycharm": {
     "name": "#%%\n"
    }
   }
  },
  {
   "cell_type": "code",
   "execution_count": 1,
   "outputs": [
    {
     "ename": "NameError",
     "evalue": "name 'm' is not defined",
     "output_type": "error",
     "traceback": [
      "\u001B[1;31m---------------------------------------------------------------------------\u001B[0m",
      "\u001B[1;31mNameError\u001B[0m                                 Traceback (most recent call last)",
      "\u001B[1;32m<ipython-input-1-5b10c0559f53>\u001B[0m in \u001B[0;36m<module>\u001B[1;34m\u001B[0m\n\u001B[1;32m----> 1\u001B[1;33m \u001B[0mforecast\u001B[0m \u001B[1;33m=\u001B[0m \u001B[0mm\u001B[0m\u001B[1;33m.\u001B[0m\u001B[0mpredict\u001B[0m\u001B[1;33m(\u001B[0m\u001B[0mfuture\u001B[0m\u001B[1;33m)\u001B[0m\u001B[1;33m\u001B[0m\u001B[1;33m\u001B[0m\u001B[0m\n\u001B[0m\u001B[0;32m      2\u001B[0m \u001B[0mforecast\u001B[0m\u001B[1;33m.\u001B[0m\u001B[0mhead\u001B[0m\u001B[1;33m(\u001B[0m\u001B[1;33m)\u001B[0m\u001B[1;33m\u001B[0m\u001B[1;33m\u001B[0m\u001B[0m\n\u001B[0;32m      3\u001B[0m \u001B[0mforecast\u001B[0m\u001B[1;33m[\u001B[0m\u001B[1;33m[\u001B[0m\u001B[1;34m'ds'\u001B[0m\u001B[1;33m,\u001B[0m \u001B[1;34m'yhat'\u001B[0m\u001B[1;33m,\u001B[0m \u001B[1;34m'yhat_lower'\u001B[0m\u001B[1;33m,\u001B[0m \u001B[1;34m'yhat_upper'\u001B[0m\u001B[1;33m]\u001B[0m\u001B[1;33m]\u001B[0m\u001B[1;33m.\u001B[0m\u001B[0mtail\u001B[0m\u001B[1;33m(\u001B[0m\u001B[1;33m)\u001B[0m\u001B[1;33m\u001B[0m\u001B[1;33m\u001B[0m\u001B[0m\n\u001B[0;32m      4\u001B[0m \u001B[1;33m\u001B[0m\u001B[0m\n",
      "\u001B[1;31mNameError\u001B[0m: name 'm' is not defined"
     ]
    }
   ],
   "source": [
    "forecast = m.predict(future)\n",
    "forecast.head()\n",
    "\n",
    "# 확인하고 싶은 변수들만 뽑아내서 확인\n",
    "forecast[['ds', 'yhat', 'yhat_lower', 'yhat_upper']].tail()"
   ],
   "metadata": {
    "collapsed": false,
    "pycharm": {
     "name": "#%%\n"
    }
   }
  },
  {
   "cell_type": "code",
   "execution_count": null,
   "outputs": [],
   "source": [
    "# 시각화를 통해 예측 결과 확인\n",
    "m.plot(forecast);"
   ],
   "metadata": {
    "collapsed": false,
    "pycharm": {
     "name": "#%%\n"
    }
   }
  },
  {
   "cell_type": "code",
   "execution_count": null,
   "outputs": [],
   "source": [
    "# plot_components()를 사용해서 선형 회귀 및 계절성 성분 별로 분해\n",
    "# 다시 말해, forecast component 시각화(Trend, Holidays, Weakly, Yearly, Daily)\n",
    "m.plot_components(forecast);"
   ],
   "metadata": {
    "collapsed": false,
    "pycharm": {
     "name": "#%%\n"
    }
   }
  },
  {
   "cell_type": "markdown",
   "source": [
    "## 7-3. Seasonal 시계열 분석으로 주식 데이터 분석하기"
   ],
   "metadata": {
    "collapsed": false
   }
  },
  {
   "cell_type": "code",
   "execution_count": null,
   "outputs": [],
   "source": [
    "from pandas_datareader import data\n",
    "import yfinance as yf # Yahoo Finance에서 제공하는 데이터에 접근할 수 있는 라이브러리\n",
    "yf.pdr_override()\n",
    "\n",
    "start_date = '1990-1-1'\n",
    "end_date = '2017-6-30'\n",
    "KIA = data.get_data_yahoo('000270.KS', start_date, end_date)\n",
    "KIA.head()\n",
    "\n",
    "# KIA = web.DataReader('KRX:000270','google',start,end) # 구글용... 동작이 안됨\n",
    "# KIA = web.DataReader('000270.KS','yahoo',start,end) # 구글용... 동작이 안됨\n"
   ],
   "metadata": {
    "collapsed": false,
    "pycharm": {
     "name": "#%%\n"
    }
   }
  },
  {
   "cell_type": "code",
   "execution_count": null,
   "outputs": [],
   "source": [
    "# 종가를 기준으로 시각화\n",
    "KIA['Close'].plot(figsize=(12,6), grid=True);"
   ],
   "metadata": {
    "collapsed": false,
    "pycharm": {
     "name": "#%%\n"
    }
   }
  },
  {
   "cell_type": "code",
   "execution_count": null,
   "outputs": [],
   "source": [
    "# 일부 데이터를 잘라서 먼저 forecast\n",
    "KIA_trunc = KIA[:'2016-12-31']\n",
    "KIA_trunc"
   ],
   "metadata": {
    "collapsed": false,
    "pycharm": {
     "name": "#%%\n"
    }
   }
  },
  {
   "cell_type": "code",
   "execution_count": null,
   "outputs": [],
   "source": [
    "df = pd.DataFrame({'ds':KIA_trunc.index, 'y':KIA_trunc['Close']})\n",
    "df.reset_index(inplace=True)\n",
    "del df['Date']\n",
    "df.head()"
   ],
   "metadata": {
    "collapsed": false,
    "pycharm": {
     "name": "#%%\n"
    }
   }
  },
  {
   "cell_type": "code",
   "execution_count": null,
   "outputs": [],
   "source": [
    "# 주기성이 '일단위(daily_seasonality)'로 있다고 알려준다\n",
    "#  prophet object를 생성하고, 훈련 데이터를 fitting 하여  prophet 모델을 만듭니다.\n",
    "m = Prophet(daily_seasonality=True)\n",
    "m.fit(df);"
   ],
   "metadata": {
    "collapsed": false,
    "pycharm": {
     "name": "#%%\n"
    }
   }
  },
  {
   "cell_type": "code",
   "execution_count": null,
   "outputs": [],
   "source": [
    "# 1년(365일) 후. 즉, 2017년 12월 31일까지의 데이터를 예측하겠다는 의미\n",
    "future = m.make_future_dataframe(periods=365)\n",
    "future.tail()"
   ],
   "metadata": {
    "collapsed": false,
    "pycharm": {
     "name": "#%%\n"
    }
   }
  },
  {
   "cell_type": "code",
   "execution_count": null,
   "outputs": [],
   "source": [
    "forecast = m.predict(future)\n",
    "forecast[['ds', 'yhat', 'yhat_lower', 'yhat_upper']].tail()"
   ],
   "metadata": {
    "collapsed": false,
    "pycharm": {
     "name": "#%%\n"
    }
   }
  },
  {
   "cell_type": "code",
   "execution_count": null,
   "outputs": [],
   "source": [
    "m.plot(forecast);"
   ],
   "metadata": {
    "collapsed": false,
    "pycharm": {
     "name": "#%%\n"
    }
   }
  },
  {
   "cell_type": "code",
   "execution_count": null,
   "outputs": [],
   "source": [
    "# 계절성 성분 별로 분해해서 분석.\n",
    "m.plot_components(forecast);"
   ],
   "metadata": {
    "collapsed": false,
    "pycharm": {
     "name": "#%%\n"
    }
   }
  },
  {
   "cell_type": "code",
   "execution_count": null,
   "outputs": [],
   "source": [
    "# 받아오는 데이터 날짜 변경\n",
    "start_date = '2014-1-1'\n",
    "end_date = '2017-7-31'\n",
    "KIA = data.get_data_yahoo('000270.KS', start_date, end_date)\n",
    "KIA['Close'].plot(figsize=(12,6), grid=True);"
   ],
   "metadata": {
    "collapsed": false,
    "pycharm": {
     "name": "#%%\n"
    }
   }
  },
  {
   "cell_type": "code",
   "execution_count": null,
   "outputs": [],
   "source": [
    "# 예측용으로 사용할 데이터\n",
    "KIA_trunc = KIA[:'2017-05-31']\n",
    "KIA_trunc['Close'].plot(figsize=(12,6), grid=True);"
   ],
   "metadata": {
    "collapsed": false,
    "pycharm": {
     "name": "#%%\n"
    }
   }
  },
  {
   "cell_type": "code",
   "execution_count": null,
   "outputs": [],
   "source": [
    "df = pd.DataFrame({'ds':KIA_trunc.index, 'y':KIA_trunc['Close']})\n",
    "df.reset_index(inplace=True)\n",
    "del df['Date']"
   ],
   "metadata": {
    "collapsed": false,
    "pycharm": {
     "name": "#%%\n"
    }
   }
  },
  {
   "cell_type": "code",
   "execution_count": null,
   "outputs": [],
   "source": [
    "# 주기성 일단위\n",
    "m = Prophet(daily_seasonality=True)\n",
    "m.fit(df);"
   ],
   "metadata": {
    "collapsed": false,
    "pycharm": {
     "name": "#%%\n"
    }
   }
  },
  {
   "cell_type": "code",
   "execution_count": null,
   "outputs": [],
   "source": [
    "future = m.make_future_dataframe(periods=61)\n",
    "future.tail()"
   ],
   "metadata": {
    "collapsed": false,
    "pycharm": {
     "name": "#%%\n"
    }
   }
  },
  {
   "cell_type": "code",
   "execution_count": null,
   "outputs": [],
   "source": [
    "forecast = m.predict(future)\n",
    "m.plot(forecast);"
   ],
   "metadata": {
    "collapsed": false,
    "pycharm": {
     "name": "#%%\n"
    }
   }
  },
  {
   "cell_type": "code",
   "execution_count": null,
   "outputs": [],
   "source": [
    "plt.figure(figsize=(12,6))\n",
    "plt.plot(KIA.index, KIA['Close'], label='real')\n",
    "plt.plot(forecast['ds'], forecast['yhat'], label='forecast')\n",
    "plt.grid()\n",
    "plt.legend()\n",
    "plt.show()"
   ],
   "metadata": {
    "collapsed": false,
    "pycharm": {
     "name": "#%%\n"
    }
   }
  },
  {
   "cell_type": "markdown",
   "source": [
    "## 7-4 Growth Model, 예제에서 사용한 데이터는 주기성을 띠면서, 점점 성장하는(?) 모습의 데이터"
   ],
   "metadata": {
    "collapsed": false
   }
  },
  {
   "cell_type": "code",
   "execution_count": null,
   "outputs": [],
   "source": [
    "df = pd.read_csv('../data/08. example_wp_R.csv')\n",
    "df.head()\n"
   ],
   "metadata": {
    "collapsed": false,
    "pycharm": {
     "name": "#%%\n"
    }
   }
  },
  {
   "cell_type": "code",
   "execution_count": null,
   "outputs": [],
   "source": [
    "df['y'] = np.log(df['y']) # 로그 변환\n",
    "df['cap'] = 8.5 # 예측 값의 상한을 8.5로 설정\n",
    "df.head()"
   ],
   "metadata": {
    "collapsed": false,
    "pycharm": {
     "name": "#%%\n"
    }
   }
  },
  {
   "cell_type": "code",
   "execution_count": null,
   "outputs": [],
   "source": [
    "m = Prophet(growth='logistic', daily_seasonality=True)\n",
    "m.fit(df)"
   ],
   "metadata": {
    "collapsed": false,
    "pycharm": {
     "name": "#%%\n"
    }
   }
  },
  {
   "cell_type": "code",
   "execution_count": null,
   "outputs": [],
   "source": [
    "future = m.make_future_dataframe(periods=1826)\n",
    "future['cap'] = 8.5\n",
    "fcst = m.predict(future)\n",
    "m.plot(fcst);"
   ],
   "metadata": {
    "collapsed": false,
    "pycharm": {
     "name": "#%%\n"
    }
   }
  },
  {
   "cell_type": "code",
   "execution_count": null,
   "outputs": [],
   "source": [
    "forecast = m.predict(future)\n",
    "m.plot_components(forecast);"
   ],
   "metadata": {
    "collapsed": false,
    "pycharm": {
     "name": "#%%\n"
    }
   }
  },
  {
   "cell_type": "markdown",
   "source": [
    "## holiday forecast\n",
    "휴일이나 모델에 반영하고 싶은 이벤트가 있으면, Dataframe을 생성해 반영할 수 있다\n",
    "Prophet 객체를 생성할 때, holidays 파라미터를 사용하면 된다"
   ],
   "metadata": {
    "collapsed": false
   }
  },
  {
   "cell_type": "code",
   "execution_count": null,
   "outputs": [],
   "source": [
    "df = pd.read_csv('../data/08. example_wp_peyton_manning.csv')\n",
    "df['y'] = np.log(df['y']) # 로그 변환\n",
    "m = Prophet(daily_seasonality=True)\n",
    "m.fit(df)\n",
    "future = m.make_future_dataframe(periods=366)"
   ],
   "metadata": {
    "collapsed": false,
    "pycharm": {
     "name": "#%%\n"
    }
   }
  },
  {
   "cell_type": "code",
   "execution_count": null,
   "outputs": [],
   "source": [
    "df.y.plot(figsize=(12,6), grid=True);"
   ],
   "metadata": {
    "collapsed": false,
    "pycharm": {
     "name": "#%%\n"
    }
   }
  },
  {
   "cell_type": "code",
   "execution_count": null,
   "outputs": [],
   "source": [
    "# 예제용 데이터 프레임 생성\n",
    "# playoffs DataFrame +  superbowls DataFrame을 합쳐서(concat),\n",
    "# holidays라는 DataFrame을 생성\n",
    "# playoffs DataFrame는 4개의 변수를 갖는다.\n",
    "\n",
    "playoffs = pd.DataFrame({\n",
    "  'holiday': 'playoff',\n",
    "  'ds': pd.to_datetime(['2008-01-13', '2009-01-03', '2010-01-16',\n",
    "                        '2010-01-24', '2010-02-07', '2011-01-08',\n",
    "                        '2013-01-12', '2014-01-12', '2014-01-19',\n",
    "                        '2014-02-02', '2015-01-11', '2016-01-17',\n",
    "                        '2016-01-24', '2016-02-07']),\n",
    "  'lower_window': 0,\n",
    "  'upper_window': 1,\n",
    "})\n",
    "superbowls = pd.DataFrame({\n",
    "  'holiday': 'superbowl',\n",
    "  'ds': pd.to_datetime(['2010-02-07', '2014-02-02', '2016-02-07']),\n",
    "  'lower_window': 0,\n",
    "  'upper_window': 1,\n",
    "})\n",
    "holidays = pd.concat((playoffs, superbowls))\n",
    "holidays.head()"
   ],
   "metadata": {
    "collapsed": false,
    "pycharm": {
     "name": "#%%\n"
    }
   }
  },
  {
   "cell_type": "code",
   "execution_count": null,
   "outputs": [],
   "source": [
    "# Prophet 객체를 생성할 때, holidays 파라미터를 사용\n",
    "\n",
    "m = Prophet(holidays=holidays, daily_seasonality=True)\n",
    "forecast = m.fit(df).predict(future)"
   ],
   "metadata": {
    "collapsed": false,
    "pycharm": {
     "name": "#%%\n"
    }
   }
  },
  {
   "cell_type": "code",
   "execution_count": null,
   "outputs": [],
   "source": [
    "forecast[(forecast['playoff'] + forecast['superbowl']).abs() > 0][\n",
    "        ['ds', 'playoff', 'superbowl']][-10:]"
   ],
   "metadata": {
    "collapsed": false,
    "pycharm": {
     "name": "#%%\n"
    }
   }
  },
  {
   "cell_type": "code",
   "execution_count": null,
   "outputs": [],
   "source": [
    "m.plot(forecast);"
   ],
   "metadata": {
    "collapsed": false,
    "pycharm": {
     "name": "#%%\n"
    }
   }
  },
  {
   "cell_type": "code",
   "execution_count": null,
   "outputs": [],
   "source": [
    "m.plot_components(forecast);"
   ],
   "metadata": {
    "collapsed": false,
    "pycharm": {
     "name": "#%%\n"
    }
   }
  },
  {
   "cell_type": "code",
   "execution_count": null,
   "outputs": [],
   "source": [
    "\n"
   ],
   "metadata": {
    "collapsed": false,
    "pycharm": {
     "name": "#%%\n"
    }
   }
  }
 ],
 "metadata": {
  "kernelspec": {
   "display_name": "Python 3",
   "language": "python",
   "name": "python3"
  },
  "language_info": {
   "codemirror_mode": {
    "name": "ipython",
    "version": 2
   },
   "file_extension": ".py",
   "mimetype": "text/x-python",
   "name": "python",
   "nbconvert_exporter": "python",
   "pygments_lexer": "ipython2",
   "version": "2.7.6"
  }
 },
 "nbformat": 4,
 "nbformat_minor": 0
}